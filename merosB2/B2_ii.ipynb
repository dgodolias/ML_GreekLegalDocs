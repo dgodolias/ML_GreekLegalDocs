{
 "cells": [
  {
   "cell_type": "markdown",
   "id": "1f40d807",
   "metadata": {},
   "source": [
    "# Μέρος Β2.iii: Ανάλυση Αποτελεσμάτων Συσταδοποίησης K-Means\n",
    "\n",
    "Αυτό το notebook αφορά την ανάλυση και ερμηνεία των συστάδων (clusters) που δημιουργήθηκαν από τον αλγόριθμο K-Means στο Μέρος Β2.ii. Θα εξετάσουμε τα χαρακτηριστικά των συστάδων για να κατανοήσουμε το περιεχόμενό τους."
   ]
  },
  {
   "cell_type": "markdown",
   "id": "bf6e2b1c",
   "metadata": {},
   "source": [
    "**Επεξήγηση Κελιού:**\n",
    "Εισαγωγή στον σκοπό του notebook: ανάλυση των αποτελεσμάτων της K-Means συσταδοποίησης από το προηγούμενο βήμα (B2.ii)."
   ]
  },
  {
   "cell_type": "markdown",
   "id": "6c0f27b9",
   "metadata": {},
   "source": [
    "## 1. Ρυθμίσεις και Φόρτωση Δεδομένων\n",
    "\n",
    "Εισάγουμε τις απαραίτητες βιβλιοθήκες και φορτώνουμε το αρχείο CSV που περιέχει τα έγγραφα και τις αντιστοιχίες τους στις συστάδες, όπως αυτό εξήχθη από το `kmeans_final.py`."
   ]
  },
  {
   "cell_type": "markdown",
   "id": "bb7255db",
   "metadata": {},
   "source": [
    "**Επεξήγηση Κελιού:**\n",
    "Προετοιμασία για την ανάλυση: εισαγωγή βιβλιοθηκών και επισήμανση της φόρτωσης των δεδομένων."
   ]
  },
  {
   "cell_type": "code",
   "execution_count": null,
   "id": "490b9d1b",
   "metadata": {},
   "outputs": [],
   "source": [
    "import pandas as pd\n",
    "import numpy as np\n",
    "import matplotlib.pyplot as plt\n",
    "import seaborn as sns\n",
    "import os\n",
    "\n",
    "# Ορισμός της διαδρομής προς το αρχείο CSV που περιέχει τις συστάδες.\n",
    "# Αυτό το αρχείο παράγεται από το script kmeans_final.py (Μέρος Β2.ii).\n",
    "# Προσαρμόστε τη διαδρομή εάν το notebook ή το αρχείο CSV βρίσκεται σε διαφορετική θέση.\n",
    "current_notebook_dir = os.getcwd()\n",
    "path_to_csv = os.path.join(current_notebook_dir, '..', 'documents_with_clusters.csv') \n",
    "# Εναλλακτικά, αν το kmeans_final.py αποθηκεύει στο merosB2/outputs:\n",
    "# path_to_csv = os.path.join(os.path.dirname(current_notebook_dir), 'outputs', 'documents_with_clusters.csv')\n",
    "# Ελέγξτε τη δομή του φακέλου σας και τη θέση του αρχείου documents_with_clusters.csv.\n",
    "# Η προεπιλεγμένη ρύθμιση στο kmeans_final.py είναι:\n",
    "# SCRIPT_DIR (merosB2/ii/) -> '..' -> merosB2/documents_with_clusters.csv\n",
    "# Άρα, από το merosB2/iii/, η διαδρομή '../documents_with_clusters.csv' είναι σωστή.\n",
    "\n",
    "TEXT_COLUMN_USED_IN_B2_II = 'summary' # Επιβεβαιώστε ότι είναι η ίδια στήλη που χρησιμοποιήθηκε στο kmeans_final.py ('summary' ή 'text')\n",
    "CHOSEN_K_FROM_B2_II = 21 # Επιβεβαιώστε ότι είναι ο ίδιος αριθμός K που χρησιμοποιήθηκε στο kmeans_final.py\n",
    "\n",
    "print(f\"Αναμένεται το αρχείο CSV εδώ: {os.path.abspath(path_to_csv)}\")\n",
    "print(f\"Στήλη κειμένου που χρησιμοποιήθηκε: {TEXT_COLUMN_USED_IN_B2_II}\")\n",
    "print(f\"Αριθμός συστάδων (K): {CHOSEN_K_FROM_B2_II}\")"
   ]
  },
  {
   "cell_type": "markdown",
   "id": "27be3318",
   "metadata": {},
   "source": [
    "**Επεξήγηση Κελιού:**\n",
    "Εισαγωγή βιβλιοθηκών Python και ορισμός βασικών παραμέτρων, όπως η διαδρομή προς το αρχείο δεδομένων με τις συστάδες και η στήλη κειμένου που χρησιμοποιήθηκε για τη συσταδοποίηση."
   ]
  },
  {
   "cell_type": "code",
   "execution_count": null,
   "id": "69d08269",
   "metadata": {},
   "outputs": [],
   "source": [
    "try:\n",
    "    df_clustered = pd.read_csv(path_to_csv)\n",
    "    print(\"DataFrame φορτώθηκε επιτυχώς.\")\n",
    "    print(f\"Διαστάσεις DataFrame: {df_clustered.shape}\")\n",
    "    display(df_clustered.head())\n",
    "    print(\"\\nΠληροφορίες DataFrame:\")\n",
    "    df_clustered.info()\n",
    "except FileNotFoundError:\n",
    "    print(f\"ΣΦΑΛΜΑ: Το αρχείο δεν βρέθηκε στη διαδρομή: {os.path.abspath(path_to_csv)}\")\n",
    "    print(\"Παρακαλώ βεβαιωθείτε ότι το script kmeans_final.py (Μέρος Β2.ii) έχει εκτελεστεί και το αρχείο CSV υπάρχει στην αναμενόμενη θέση.\")\n",
    "    df_clustered = None"
   ]
  },
  {
   "cell_type": "markdown",
   "id": "5434825d",
   "metadata": {},
   "source": [
    "**Επεξήγηση Κελιού:**\n",
    "Φόρτωση του αρχείου CSV που περιέχει τα δεδομένα και τις αντιστοιχίες συστάδων. Εμφανίζονται οι πρώτες γραμμές και οι πληροφορίες του DataFrame για επιβεβαίωση."
   ]
  },
  {
   "cell_type": "markdown",
   "id": "d3649e22",
   "metadata": {},
   "source": [
    "## 2. Ανάλυση Μεγέθους Συστάδων\n",
    "\n",
    "Εξετάζουμε τον αριθμό των εγγράφων που ανήκουν σε κάθε συστάδα."
   ]
  },
  {
   "cell_type": "markdown",
   "id": "70f94740",
   "metadata": {},
   "source": [
    "**Επεξήγηση Κελιού:**\n",
    "Εισαγωγή στην ανάλυση του μεγέθους των συστάδων."
   ]
  },
  {
   "cell_type": "code",
   "execution_count": null,
   "id": "9d7062a1",
   "metadata": {},
   "outputs": [],
   "source": [
    "if df_clustered is not None:\n",
    "    cluster_sizes = df_clustered['cluster_id'].value_counts().sort_index()\n",
    "    print(\"--- Μεγέθη Συστάδων ---\")\n",
    "    for cluster_id_val, size in cluster_sizes.items():\n",
    "        print(f\"  Συστάδα {cluster_id_val}: {size} έγγραφα\")\n",
    "    \n",
    "    plt.figure(figsize=(12, 6))\n",
    "    sns.barplot(x=cluster_sizes.index, y=cluster_sizes.values, palette=\"viridis\")\n",
    "    plt.title(f'Κατανομή Εγγράφων ανά Συστάδα (K={CHOSEN_K_FROM_B2_II})', fontsize=15)\n",
    "    plt.xlabel('ID Συστάδας', fontsize=12)\n",
    "    plt.ylabel('Αριθμός Εγγράφων', fontsize=12)\n",
    "    plt.xticks(rotation=45)\n",
    "    plt.grid(axis='y', linestyle='--')\n",
    "    plt.tight_layout()\n",
    "    plt.show()\n",
    "else:\n",
    "    print(\"Το DataFrame δεν έχει φορτωθεί, παράλειψη ανάλυσης μεγέθους συστάδων.\")"
   ]
  },
  {
   "cell_type": "markdown",
   "id": "4ff5f276",
   "metadata": {},
   "source": [
    "**Επεξήγηση Κελιού:**\n",
    "Υπολογισμός και οπτικοποίηση του αριθμού των εγγράφων σε κάθε συστάδα. Αυτό βοηθά στον εντοπισμό πολύ μικρών ή πολύ μεγάλων συστάδων."
   ]
  },
  {
   "cell_type": "markdown",
   "id": "5710e24a",
   "metadata": {},
   "source": [
    "## 3. Ανάλυση Περιεχομένου Συστάδων\n",
    "\n",
    "### 3.1. Κορυφαίοι Όροι ανά Συστάδα (Top Terms)\n",
    "\n",
    "Για να προσδιορίσουμε τους πιο αντιπροσωπευτικούς όρους για κάθε συστάδα, χρειαζόμαστε το εκπαιδευμένο μοντέλο TF-IDF (`vectorizer`) και τα κεντροειδή (`cluster_centers_`) του μοντέλου K-Means από το Μέρος Β2.ii.\n",
    "\n",
    "**Σημείωση:** Το script `kmeans_final.py` δεν αποθηκεύει αυτά τα αντικείμενα από προεπιλογή. Εάν θέλετε να εκτελέσετε αυτή την ανάλυση, θα πρέπει:\n",
    "1.  Να τροποποιήσετε το `kmeans_final.py` ώστε να αποθηκεύει το `vectorizer` και το `kmeans_model` (π.χ., χρησιμοποιώντας `joblib.dump`).\n",
    "2.  Να φορτώσετε αυτά τα αντικείμενα εδώ (π.χ., με `joblib.load`).\n",
    "3.  Να χρησιμοποιήσετε τον παρακάτω ενδεικτικό κώδικα.\n",
    "\n",
    "Εναλλακτικά, εάν εκτελείτε αυτό το notebook στην ίδια συνεδρία Python (session) μετά την εκτέλεση του `kmeans_final.py` και έχετε τα `vectorizer` και `kmeans_model` διαθέσιμα ως μεταβλητές, μπορείτε να τα χρησιμοποιήσετε απευθείας."
   ]
  },
  {
   "cell_type": "markdown",
   "id": "48ecaac5",
   "metadata": {},
   "source": [
    "**Επεξήγηση Κελιού:**\n",
    "Επεξήγηση της μεθοδολογίας για την εύρεση των κορυφαίων όρων ανά συστάδα και επισήμανση των προαπαιτούμενων (μοντέλο vectorizer και k-means)."
   ]
  },
  {
   "cell_type": "code",
   "execution_count": null,
   "id": "2be01ccb",
   "metadata": {
    "tags": []
   },
   "outputs": [],
   "source": [
    "print(\"--- Ενδεικτικός Κώδικας για Κορυφαίους Όρους (Απαιτεί Vectorizer και K-Means Model) ---\")\n",
    "print(\"Αυτός ο κώδικας δεν θα εκτελεστεί εκτός αν έχετε φορτώσει τα 'vectorizer' και 'kmeans_model'.\")\n",
    "\n",
    "# Παράδειγμα (υποθέτοντας ότι έχετε τα 'vectorizer' και 'kmeans_model'):\n",
    "'''\n",
    "import joblib\n",
    "\n",
    "# Υποθετικές διαδρομές αποθήκευσης/φόρτωσης\n",
    "# path_to_vectorizer = os.path.join(current_notebook_dir, '..', 'ii', 'outputs', 'tfidf_vectorizer.joblib')\n",
    "# path_to_kmeans_model = os.path.join(current_notebook_dir, '..', 'ii', 'outputs', 'kmeans_model.joblib')\n",
    "\n",
    "try:\n",
    "    # vectorizer = joblib.load(path_to_vectorizer)\n",
    "    # kmeans_model = joblib.load(path_to_kmeans_model)\n",
    "    # print(\"Vectorizer και K-Means model φορτώθηκαν (υποθετικά).\")\n",
    "    \n",
    "    # # Εάν δεν τα έχετε φορτώσει, ο παρακάτω κώδικας θα προκαλέσει σφάλμα\n",
    "    # if 'vectorizer' in locals() and 'kmeans_model' in locals():\n",
    "    #     print(\"\\nTop terms per cluster:\")\n",
    "    #     order_centroids = kmeans_model.cluster_centers_.argsort()[:, ::-1]\n",
    "    #     terms = vectorizer.get_feature_names_out()\n",
    "    #     for i in range(CHOSEN_K_FROM_B2_II):\n",
    "    #         print(f\"Cluster {i}:\", end='')\n",
    "    #         for ind in order_centroids[i, :10]: # top 10 terms\n",
    "    #             print(f' {terms[ind]}', end='')\n",
    "    #         print()\n",
    "    # else:\n",
    "    #     print(\"Vectorizer ή/και K-Means model δεν είναι διαθέσιμα για την ανάλυση κορυφαίων όρων.\")\n",
    "    pass # Αφήστε το κενό ή σχολιασμένο μέχρι να έχετε τα μοντέλα\n",
    "except NameError:\n",
    "    print(\"Vectorizer ή/και K-Means model δεν έχουν οριστεί.\")\n",
    "except FileNotFoundError:\n",
    "    print(\"Ένα ή περισσότερα αρχεία μοντέλου (.joblib) δεν βρέθηκαν. Βεβαιωθείτε ότι έχουν αποθηκευτεί σωστά.\")\n",
    "'''\n",
    "print(\"Παρακαλώ αποσχολιάστε και προσαρμόστε τον παραπάνω κώδικα εάν έχετε αποθηκεύσει και φορτώσει τα μοντέла.\")"
   ]
  },
  {
   "cell_type": "markdown",
   "id": "87fc7ddc",
   "metadata": {},
   "source": [
    "**Επεξήγηση Κελιού:**\n",
    "Παροχή ενδεικτικού κώδικα για την εξαγωγή των κορυφαίων όρων. Ο κώδικας είναι σχολιασμένος καθώς προϋποθέτει τη φόρτωση των μοντέλων."
   ]
  },
  {
   "cell_type": "markdown",
   "id": "525b746b",
   "metadata": {},
   "source": [
    "### 3.2. Κατανομή Μεταδεδομένων ανά Συστάδα\n",
    "\n",
    "Εξετάζουμε πώς κατανέμονται γνωστές κατηγορίες ή ετικέτες (π.χ., `case_category`, `case_tags` από το αρχικό dataset) μέσα στις συστάδες που δημιουργήθηκαν."
   ]
  },
  {
   "cell_type": "markdown",
   "id": "8c22d2ec",
   "metadata": {},
   "source": [
    "**Επεξήγηση Κελιού:**\n",
    "Εισαγωγή στην ανάλυση της κατανομής των υπαρχόντων μεταδεδομένων (π.χ. κατηγορίες υποθέσεων) εντός των συστάδων."
   ]
  },
  {
   "cell_type": "code",
   "execution_count": null,
   "id": "243a8416",
   "metadata": {},
   "outputs": [],
   "source": [
    "if df_clustered is not None:\n",
    "    metadata_columns = ['case_category', 'case_tags'] # Στήλες από το dataset DominusTea/GreekLegalSum\n",
    "    \n",
    "    for col in metadata_columns:\n",
    "        if col in df_clustered.columns:\n",
    "            print(f\"\\n--- Ανάλυση Κατανομής για τη στήλη: '{col}' ---\")\n",
    "            \n",
    "            # Χειρισμός λιστών ή πολλαπλών τιμών στη στήλη 'case_tags' (αν χρειάζεται)\n",
    "            # Για απλότητα, εδώ θα εξετάσουμε τις μοναδικές τιμές ως έχουν.\n",
    "            # Μπορεί να χρειαστεί πιο προχωρημένη επεξεργασία για 'case_tags' αν είναι λίστες.\n",
    "            if df_clustered[col].dtype == 'object' and df_clustered[col].str.contains(r'\\[|\\|]', regex=True).any():\n",
    "                 print(f\"Σημείωση: Η στήλη '{col}' φαίνεται να περιέχει λίστες ή ειδικούς χαρακτήρες. Η απλή value_counts μπορεί να μην είναι ιδανική.\")\n",
    "                 # Εδώ θα μπορούσε να μπει κώδικας για explode ή άλλη επεξεργασία των tags\n",
    "\n",
    "            # Ομαδοποίηση ανά cluster_id και υπολογισμός ποσοστών για κάθε τιμή της στήλης col\n",
    "            # Χρησιμοποιούμε unstack και fillna για καλύτερη παρουσίαση\n",
    "            try:\n",
    "                distribution = df_clustered.groupby('cluster_id')[col].value_counts(normalize=True).mul(100).unstack(fill_value=0)\n",
    "                plt.figure(figsize=(15, 8))\n",
    "                sns.heatmap(distribution, annot=True, fmt=\".1f\", cmap=\"YlGnBu\", linewidths=.5)\n",
    "                plt.title(f'Ποσοστιαία Κατανομή της Στήλης \"{col}\" ανά Συστάδα (%)', fontsize=15)\n",
    "                plt.xlabel(f'Τιμές Στήλης \"{col}\"', fontsize=12)\n",
    "                plt.ylabel('ID Συστάδας', fontsize=12)\n",
    "                plt.xticks(rotation=45, ha='right')\n",
    "                plt.yticks(rotation=0)\n",
    "                plt.tight_layout()\n",
    "                plt.show()\n",
    "            except Exception as e:\n",
    "                print(f\"Δεν ήταν δυνατή η δημιουργία heatmap για τη στήλη '{col}': {e}\")\n",
    "                print(\"Εμφάνιση απλών value_counts ανά συστάδα:\")\n",
    "                for cluster_id_val in sorted(df_clustered['cluster_id'].unique()):\n",
    "                    print(f\"  Συστάδα {cluster_id_val} - {col}:\")\n",
    "                    print(df_clustered[df_clustered['cluster_id'] == cluster_id_val][col].value_counts(normalize=True).mul(100).head(5))\n",
    "                    print(\"---\")\n",
    "        else:\n",
    "            print(f\"Η στήλη μεταδεδομένων '{col}' δεν βρέθηκε στο DataFrame.\")\n",
    "else:\n",
    "    print(\"Το DataFrame δεν έχει φορτωθεί, παράλειψη ανάλυσης μεταδεδομένων.\")"
   ]
  },
  {
   "cell_type": "markdown",
   "id": "35a359a7",
   "metadata": {},
   "source": [
    "**Επεξήγηση Κελιού:**\n",
    "Ομαδοποίηση των δεδομένων ανά συστάδα και ανάλυση της κατανομής των τιμών από επιλεγμένες στήλες μεταδεδομένων (π.χ., `case_category`). Οπτικοποίηση με heatmap για την εύκολη σύγκριση των κατανομών μεταξύ των συστάδων."
   ]
  },
  {
   "cell_type": "markdown",
   "id": "cd8c30c5",
   "metadata": {},
   "source": [
    "### 3.3. Εμφάνιση Αντιπροσωπευτικών Εγγράφων ανά Συστάδα\n",
    "\n",
    "Εμφανίζουμε μερικά παραδείγματα εγγράφων από κάθε συστάδα για να πάρουμε μια ποιοτική αίσθηση του περιεχομένου τους."
   ]
  },
  {
   "cell_type": "markdown",
   "id": "d141bbbe",
   "metadata": {},
   "source": [
    "**Επεξήγηση Κελιού:**\n",
    "Εισαγωγή στην εμφάνιση δειγμάτων εγγράφων από κάθε συστάδα."
   ]
  },
  {
   "cell_type": "code",
   "execution_count": null,
   "id": "4f476267",
   "metadata": {},
   "outputs": [],
   "source": [
    "if df_clustered is not None:\n",
    "    print(f\"\\n--- Αντιπροσωπευτικά Έγγραφα (από τη στήλη '{TEXT_COLUMN_USED_IN_B2_II}') ανά Συστάδα ---\")\n",
    "    \n",
    "    # Αριθμός δειγμάτων προς εμφάνιση ανά συστάδα\n",
    "    n_samples_per_cluster = 2 \n",
    "\n",
    "    for i in range(CHOSEN_K_FROM_B2_II):\n",
    "        print(f\"\\n  Συστάδα {i}:\")\n",
    "        cluster_samples = df_clustered[df_clustered['cluster_id'] == i][TEXT_COLUMN_USED_IN_B2_II].sample(min(n_samples_per_cluster, cluster_sizes.get(i, 0)), random_state=42)\n",
    "        for idx, sample_text in enumerate(cluster_samples):\n",
    "            print(f\"    Δείγμα {idx+1}: {sample_text[:200]}...\") # Εμφάνιση των πρώτων 200 χαρακτήρων\n",
    "        if cluster_samples.empty:\n",
    "             print(\"    (Δεν υπάρχουν έγγραφα ή δεν επαρκούν για δειγματοληψία σε αυτή τη συστάδα)\")\n",
    "else:\n",
    "    print(\"Το DataFrame δεν έχει φορτωθεί, παράλειψη εμφάνισης αντιπροσωπευτικών εγγράφων.\")"
   ]
  },
  {
   "cell_type": "markdown",
   "id": "bf443d30",
   "metadata": {},
   "source": [
    "**Επεξήγηση Κελιού:**\n",
    "Εμφάνιση μερικών τυχαίων δειγμάτων κειμένου από κάθε συστάδα. Αυτό βοηθά στην ποιοτική αξιολόγηση και κατανόηση του θέματος κάθε συστάδας."
   ]
  },
  {
   "cell_type": "markdown",
   "id": "7ac1c42f",
   "metadata": {},
   "source": [
    "## 4. Συμπεράσματα\n",
    "\n",
    "Σε αυτό το σημείο, έχοντας αναλύσει τα μεγέθη των συστάδων, (ιδανικά) τους κορυφαίους όρους, την κατανομή των μεταδεδομένων και έχοντας δει αντιπροσωπευτικά έγγραφα, μπορούμε να αρχίσουμε να σχηματίζουμε μια εικόνα για το τι αντιπροσωπεύει κάθε συστάδα.\n",
    "\n",
    "Η ερμηνεία των συστάδων είναι συχνά μια επαναληπτική διαδικασία και μπορεί να απαιτήσει περαιτέρω διερεύνηση ή και προσαρμογή των παραμέτρων της συσταδοποίησης (π.χ., αλλαγή του Κ, διαφορετική προεπεξεργασία κειμένου)."
   ]
  },
  {
   "cell_type": "markdown",
   "id": "75933e83",
   "metadata": {},
   "source": [
    "**Επεξήγηση Κελιού:**\n",
    "Συνοπτικά συμπεράσματα και επισημάνσεις σχετικά με τη διαδικασία ερμηνείας των συστάδων."
   ]
  }
 ],
 "metadata": {
  "kernelspec": {
   "display_name": "Python 3 (ipykernel)",
   "language": "python",
   "name": "python3"
  },
  "language_info": {
   "codemirror_mode": {
    "name": "ipython",
    "version": 3
   },
   "file_extension": ".py",
   "mimetype": "text/x-python",
   "name": "python",
   "nbconvert_exporter": "python",
   "pygments_lexer": "ipython3",
   "version": "3.10.12"
  }
 },
 "nbformat": 4,
 "nbformat_minor": 5
}
