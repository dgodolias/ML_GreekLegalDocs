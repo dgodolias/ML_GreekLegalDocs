{
 "cells": [
  {
   "cell_type": "markdown",
   "metadata": {},
   "source": [
    "# Μέρος Β1.ii: Ταξινόμηση Νομικών Εγγράφων με Λογιστική Παλινδρόμηση (Logistic Regression) και Word2Vec\n",
    "\n",
    "Αυτό το notebook αφορά την υλοποίηση και αξιολόγηση μοντέλων Λογιστικής Παλινδρόμησης για την ταξινόμηση ελληνικών νομικών εγγράφων, χρησιμοποιώντας πυκνές αναπαραστάσεις κειμένου (dense embeddings) που προέρχονται από το Word2Vec. Η εργασία αυτή αποτελεί μέρος του ερωτήματος Β1.ii της εξαμηνιαίας εργασίας."
   ]
  },
  {
   "cell_type": "markdown",
   "id": "52b7d8cf",
   "metadata": {},
   "source": [
    "**Επεξήγηση Κελιού:**\n",
    "Εισαγωγή στο notebook: Λογιστική Παλινδρόμηση με Word2Vec για ταξινόμηση νομικών κειμένων (Β1.ii)."
   ]
  },
  {
   "cell_type": "markdown",
   "id": "69b628f7",
   "metadata": {},
   "source": [
    "## 1. Τεχνική Ανάλυση Αλγορίθμων\n",
    "\n",
    "### 1.1. Λογιστική Παλινδρόμηση (Logistic Regression)\n",
    "\n",
    "Η Λογιστική Παλινδρόμηση μοντελοποιεί την πιθανότητα μιας παρατήρησης να ανήκει σε μια κλάση, χρησιμοποιώντας τη σιγμοειδή συνάρτηση. Είναι κατάλληλη για προβλήματα ταξινόμησης.\n",
    "\n",
    "**Βασικά Σημεία:**\n",
    "- **Εκπαίδευση:** Βρίσκει βέλτιστους συντελεστές μεγιστοποιώντας την πιθανοφάνεια ή ελαχιστοποιώντας το κόστος.\n",
    "- **Κύριες Παράμετροι (`scikit-learn`):**\n",
    "  - `solver`: Αλγόριθμος βελτιστοποίησης (π.χ., 'liblinear').\n",
    "  - `C`: Αντίστροφη ισχύς κανονικοποίησης (μικρότερο `C` = ισχυρότερη κανονικοποίηση).\n",
    "  - `max_iter`: Μέγιστες επαναλήψεις.\n",
    "- **Πλεονεκτήματα:** Απλότητα, ερμηνευσιμότητα, αποδοτικότητα, παροχή πιθανοτήτων.\n",
    "- **Μειονεκτήματα:** Υπόθεση γραμμικότητας, μπορεί να μην αποδίδει καλά σε μη γραμμικά όρια."
   ]
  },
  {
   "cell_type": "markdown",
   "id": "1eb0288a",
   "metadata": {},
   "source": [
    "**Επεξήγηση Κελιού:**\n",
    "Συνοπτική τεχνική ανάλυση της Λογιστικής Παλινδρόμησης: βασική ιδέα, εκπαίδευση, παράμετροι, πλεονεκτήματα και μειονεκτήματα."
   ]
  },
  {
   "cell_type": "markdown",
   "id": "0911b52e",
   "metadata": {},
   "source": [
    "### 1.2. Αναπαράσταση Κειμένου: Word2Vec\n",
    "\n",
    "Το Word2Vec δημιουργεί πυκνά διανύσματα (embeddings) για λέξεις, συλλαμβάνοντας τη σημασιολογική τους σημασία. Εκπαιδεύεται προβλέποντας λέξεις από το πλαίσιό τους (CBOW) ή το πλαίσιο από μια λέξη (Skip-gram).\n",
    "\n",
    "**Βασικά Σημεία:**\n",
    "- **Αρχιτεκτονικές:** CBOW (γρήγορο, καλό για συχνές λέξεις), Skip-gram (καλό για σπάνιες λέξεις).\n",
    "- **Κύριες Παράμετροι (`gensim`):\n",
    "  - `vector_size`: Διάσταση των embeddings.\n",
    "  - `window`: Μέγεθος πλαισίου λέξεων.\n",
    "  - `min_count`: Ελάχιστη συχνότητα λέξης για συμπερίληψη.\n",
    "  - `sg`: 0 για CBOW, 1 για Skip-gram.\n",
    "  - `epochs`: Επαναλήψεις εκπαίδευσης.\n",
    "- **Document Embeddings:** Συνήθως ο μέσος όρος των word embeddings των λέξεων ενός εγγράφου.\n",
    "- **Πλεονεκτήματα:** Σύλληψη σημασιολογίας, πυκνά διανύσματα χαμηλότερης διάστασης.\n",
    "- **Μειονεκτήματα:** Απώλεια πληροφορίας με απλό μέσο όρο, χειρισμός λέξεων εκτός λεξιλογίου (OOV)."
   ]
  },
  {
   "cell_type": "markdown",
   "id": "ec2ce221",
   "metadata": {},
   "source": [
    "**Επεξήγηση Κελιού:**\n",
    "Συνοπτική τεχνική ανάλυση του Word2Vec: βασική ιδέα, αρχιτεκτονικές, παράμετροι, δημιουργία document embeddings, πλεονεκτήματα και μειονεκτήματα."
   ]
  },
  {
   "cell_type": "markdown",
   "id": "7c408a9e",
   "metadata": {},
   "source": [
    "### 1.3. Συνδυασμός Λογιστικής Παλινδρόμησης με Word2Vec\n",
    "\n",
    "Η διαδικασία συνδυασμού περιλαμβάνει:\n",
    "1.  **Προεπεξεργασία Κειμένου.**\n",
    "2.  **Εκπαίδευση Word2Vec** για τη δημιουργία word embeddings.\n",
    "3.  **Δημιουργία Document Embeddings** (π.χ., μέσος όρος των word embeddings).\n",
    "4.  **Εκπαίδευση Λογιστικής Παλινδρόμησης** με τα document embeddings ως χαρακτηριστικά.\n",
    "\n",
    "**Οφέλη:** Τα Word2Vec embeddings παρέχουν πλούσια σημασιολογικά χαρακτηριστικά, και η Λογιστική Παλινδρόμηση είναι ένας αποδοτικός ταξινομητής για αυτά τα πυκνά διανύσματα."
   ]
  },
  {
   "cell_type": "markdown",
   "id": "5a1e66ea",
   "metadata": {},
   "source": [
    "**Επεξήγηση Κελιού:**\n",
    "Περιγραφή του συνδυασμού Λογιστικής Παλινδρόμησης και Word2Vec: βήματα και οφέλη."
   ]
  },
  {
   "cell_type": "markdown",
   "id": "fd20d86e",
   "metadata": {},
   "source": [
    "## 2. Υλοποίηση και Πειράματα\n",
    "\n",
    "Στα παρακάτω κελιά κώδικα, θα ρυθμίσουμε και θα εκτελέσουμε τα πειράματα ταξινόμησης χρησιμοποιώντας Λογιστική Παλινδρόμηση με Word2Vec. Θα χρησιμοποιήσουμε τις συναρτήσεις από το αρχείο `utils.py`."
   ]
  },
  {
   "cell_type": "markdown",
   "id": "27c95324",
   "metadata": {},
   "source": [
    "**Επεξήγηση Κελιού:**\n",
    "Έναρξη της ενότητας υλοποίησης και πειραμάτων."
   ]
  },
  {
   "cell_type": "code",
   "execution_count": 1,
   "id": "fb46c800",
   "metadata": {},
   "outputs": [
    {
     "name": "stderr",
     "output_type": "stream",
     "text": [
      "c:\\Users\\USER\\Desktop\\PROJECTS\\ML_GreekLegalDocs\\.venv\\Lib\\site-packages\\tqdm\\auto.py:21: TqdmWarning: IProgress not found. Please update jupyter and ipywidgets. See https://ipywidgets.readthedocs.io/en/stable/user_install.html\n",
      "  from .autonotebook import tqdm as notebook_tqdm\n"
     ]
    },
    {
     "name": "stdout",
     "output_type": "stream",
     "text": [
      "Successfully imported from utils.py\n"
     ]
    }
   ],
   "source": [
    "import sys\n",
    "import os\n",
    "import numpy as np\n",
    "\n",
    "# Προσθήκη του γονικού καταλόγου στο path για την εισαγωγή του utils.py\n",
    "current_notebook_dir = os.getcwd() \n",
    "parent_dir = os.path.dirname(current_notebook_dir) \n",
    "if parent_dir not in sys.path:\n",
    "    sys.path.insert(0, parent_dir)\n",
    "\n",
    "try:\n",
    "    from utils import (\n",
    "        load_and_preprocess_data,\n",
    "        run_experiment, # Αυτή η συνάρτηση χειρίζεται πλέον και το Word2Vec feature generation\n",
    "        script_execution_timer\n",
    "    )\n",
    "    print(\"Successfully imported from utils.py\")\n",
    "except ImportError as e:\n",
    "    print(f\"Error importing from utils.py: {e}\")\n",
    "    print(f\"Please ensure utils.py is in the correct path: {parent_dir} or that the notebook's parent directory is correctly identified.\")\n",
    "\n",
    "from sklearn.linear_model import LogisticRegression\n",
    "# Η import της Word2Vec γίνεται μέσα στο utils.py όταν χρειάζεται"
   ]
  },
  {
   "cell_type": "markdown",
   "id": "32d3e0db",
   "metadata": {},
   "source": [
    "**Επεξήγηση Κελιού:**\n",
    "Εισαγωγή βιβλιοθηκών και ρύθμιση path για το `utils.py`."
   ]
  },
  {
   "cell_type": "markdown",
   "id": "0c1faa02",
   "metadata": {},
   "source": [
    "### 2.1. Ρυθμίσεις Πειράματος\n",
    "\n",
    "Παρακαλώ επιλέξτε τις παραμέτρους για το πείραμα. Μπορείτε να αλλάξετε τις τιμές των μεταβλητών στο παρακάτω κελί κώδικα."
   ]
  },
  {
   "cell_type": "markdown",
   "id": "49cbf880",
   "metadata": {},
   "source": [
    "**Επεξήγηση Κελιού:**\n",
    "Ενότητα διαμόρφωσης παραμέτρων πειράματος."
   ]
  },
  {
   "cell_type": "code",
   "execution_count": 2,
   "id": "20bbaaaf",
   "metadata": {},
   "outputs": [
    {
     "name": "stdout",
     "output_type": "stream",
     "text": [
      "INFO: For 'volume' target, typically 5-fold CV was used in the report. Adjust N_SPLITS_CV if needed.\n"
     ]
    }
   ],
   "source": [
    "# --- Configuration ---\n",
    "# Επιλέξτε την ετικέτα-στόχο: \"volume\", \"chapter\", ή \"subject\"\n",
    "DATASET_CONFIG = \"volume\" \n",
    "\n",
    "# Ποσοστό του dataset που θα χρησιμοποιηθεί (1.0 για ολόκληρο, < 1.0 για υποσύνολο)\n",
    "SUBSET_PERCENTAGE = 0.3 # Για λόγους ταχύτητας κατά την επίδειξη. Αλλάξτε σε 1.0 για πλήρη δεδομένα.\n",
    "\n",
    "# Αριθμός K-folds για Cross-Validation (1 για απλό train/test split)\n",
    "# Σύμφωνα με την αναφορά, για 'volume' έγινε 5-fold CV, για 'chapter'/'subject' έγινε single split.\n",
    "N_SPLITS_CV = 1 \n",
    "if DATASET_CONFIG == \"volume\":\n",
    "    print(\"INFO: For 'volume' target, typically 5-fold CV was used in the report. Adjust N_SPLITS_CV if needed.\")\n",
    "    # N_SPLITS_CV = 5 # Uncomment to match report for 'volume'\n",
    "\n",
    "RANDOM_STATE = 42\n",
    "SINGLE_SPLIT_TEST_SIZE = 0.1 # Μέγεθος του test set όταν N_SPLITS_CV = 1\n",
    "\n",
    "# Αποθήκευση/Φόρτωση εκπαιδευμένων μοντέλων χαρακτηριστικών (Word2Vec model)\n",
    "SAVE_TRAINED_FEATURE_MODELS = True\n",
    "LOAD_TRAINED_FEATURE_MODELS_IF_EXIST = True\n",
    "\n",
    "# Word2Vec specific parameters (όπως στην αναφορά και το main_LogRegr_W2V.py)\n",
    "WORD2VEC_VECTOR_SIZE = 100\n",
    "WORD2VEC_WINDOW = 5\n",
    "WORD2VEC_MIN_COUNT = 2\n",
    "WORD2VEC_WORKERS = 4 # Προσαρμόστε ανάλογα με τους πυρήνες της CPU σας\n",
    "WORD2VEC_SG = 0      # 0 για CBOW (όπως στην αναφορά), 1 για Skip-gram\n",
    "WORD2VEC_EPOCHS = 10\n",
    "# --- End Configuration ---"
   ]
  },
  {
   "cell_type": "markdown",
   "id": "196d0a0f",
   "metadata": {},
   "source": [
    "**Επεξήγηση Κελιού:**\n",
    "Παράμετροι διαμόρφωσης για το πείραμα (dataset, Word2Vec, split)."
   ]
  },
  {
   "cell_type": "code",
   "execution_count": 3,
   "id": "b4d50730",
   "metadata": {},
   "outputs": [],
   "source": [
    "@script_execution_timer\n",
    "def run_logregr_w2v_experiment(dataset_config, subset_percentage, n_splits_cv, random_state, \n",
    "                               single_split_test_size, save_feature_models, load_feature_models,\n",
    "                               w2v_vector_size, w2v_window, w2v_min_count, w2v_workers, w2v_sg, w2v_epochs):\n",
    "    model_name_script = \"LogRegr\"\n",
    "    feature_method_name = \"Word2Vec\"\n",
    "    \n",
    "    base_run_id = f\"{model_name_script}_{feature_method_name}_{dataset_config}\"\n",
    "    \n",
    "    print(f\"Starting {model_name_script} with {feature_method_name} for '{dataset_config}' config...\")\n",
    "    \n",
    "    # Το feature_config για το Word2Vec ορίζεται εδώ και περνιέται στο run_experiment\n",
    "    feature_config = {\n",
    "        'method': 'word2vec',\n",
    "        'params': {\n",
    "            'vector_size': w2v_vector_size,\n",
    "            'window': w2v_window,\n",
    "            'min_count': w2v_min_count,\n",
    "            'workers': w2v_workers,\n",
    "            'sg': w2v_sg,\n",
    "            'epochs': w2v_epochs,\n",
    "            'seed': random_state # Προσθήκη seed για αναπαραγωγιμότητα του Word2Vec\n",
    "        }\n",
    "    }\n",
    "    \n",
    "    model_class = LogisticRegression\n",
    "    # Παράμετροι μοντέλου όπως στην αναφορά\n",
    "    model_init_params = {'solver': 'liblinear', 'max_iter': 1000, 'random_state': random_state, 'C': 1.0}\n",
    "\n",
    "    # Καθορισμός καταλόγων εξόδου\n",
    "    script_dir = os.getcwd() # Τρέχων κατάλογος του notebook\n",
    "    experiment_output_base_dir = os.path.join(script_dir, \"outputs\", base_run_id)\n",
    "    reports_output_dir = os.path.join(experiment_output_base_dir, \"reports\")\n",
    "    feature_models_output_dir = os.path.join(experiment_output_base_dir, \"feature_models\")\n",
    "    \n",
    "    os.makedirs(reports_output_dir, exist_ok=True)\n",
    "    os.makedirs(feature_models_output_dir, exist_ok=True)\n",
    "    print(f\"INFO: Experiment outputs will be saved in '{experiment_output_base_dir}'\")\n",
    "\n",
    "    # Εκτύπωση ρυθμίσεων\n",
    "    if 0 < subset_percentage < 1.0:\n",
    "        print(f\"INFO: Using a {subset_percentage*100:.0f}% subset of the data.\")\n",
    "    else:\n",
    "        print(\"INFO: Using all available data (after filtering).\")\n",
    "    \n",
    "    if n_splits_cv == 1:\n",
    "        print(f\"INFO: Performing a single train/test split (test_size={single_split_test_size}).\")\n",
    "    elif n_splits_cv > 1:\n",
    "        print(f\"INFO: Performing {n_splits_cv}-Fold Cross-Validation.\")\n",
    "    else:\n",
    "        print(\"ERROR: N_SPLITS_CV must be >= 1.\")\n",
    "        return\n",
    "\n",
    "    print(f\"INFO: Saving of trained Word2Vec models is {'ENABLED' if save_feature_models else 'DISABLED'}.\")\n",
    "    print(f\"INFO: Loading of existing Word2Vec models is {'ENABLED' if load_feature_models else 'DISABLED'}.\")\n",
    "\n",
    "    # Φόρτωση και προεπεξεργασία δεδομένων\n",
    "    texts_proc, labels_proc, unique_labels_proc, unique_labels_proc_str = load_and_preprocess_data(\n",
    "        dataset_config, subset_percentage, random_state\n",
    "    )\n",
    "\n",
    "    if texts_proc is None or len(texts_proc) == 0:\n",
    "        print(\"Failed to load or preprocess data. Exiting.\")\n",
    "        return\n",
    "\n",
    "    # Εκτέλεση πειράματος\n",
    "    success = run_experiment(\n",
    "        texts_to_process=texts_proc,\n",
    "        labels_to_process=labels_proc,\n",
    "        unique_labels_to_process=unique_labels_proc,\n",
    "        unique_labels_to_process_str=unique_labels_proc_str,\n",
    "        n_splits=n_splits_cv,\n",
    "        feature_config=feature_config, # Περνάμε το feature_config του Word2Vec\n",
    "        model_class=model_class,\n",
    "        model_init_params=model_init_params,\n",
    "        base_run_identifier=base_run_id, \n",
    "        reports_output_dir=reports_output_dir,\n",
    "        feature_models_output_dir=feature_models_output_dir,\n",
    "        random_state=random_state,\n",
    "        save_trained_features=save_feature_models,\n",
    "        load_trained_features_if_exist=load_feature_models,\n",
    "        single_split_test_size=single_split_test_size\n",
    "    )\n",
    "\n",
    "    if success:\n",
    "        print(f\"\\nExperiment '{base_run_id}' completed successfully.\")\n",
    "    else:\n",
    "        print(f\"\\nExperiment '{base_run_id}' encountered errors.\")\n",
    "\n",
    "    print(f\"\\n{model_name_script} with {feature_method_name} script finished for {dataset_config} dataset.\")"
   ]
  },
  {
   "cell_type": "markdown",
   "id": "0399a4f7",
   "metadata": {},
   "source": [
    "**Επεξήγηση Κελιού:**\n",
    "Συνάρτηση `run_logregr_w2v_experiment` που ενσωματώνει τη λογική εκτέλεσης του πειράματος."
   ]
  },
  {
   "cell_type": "markdown",
   "id": "60c47ff9",
   "metadata": {},
   "source": [
    "### 2.2. Εκτέλεση Πειράματος\n",
    "\n",
    "Το παρακάτω κελί θα εκτελέσει το πείραμα με τις ρυθμίσεις που ορίστηκαν παραπάνω."
   ]
  },
  {
   "cell_type": "markdown",
   "id": "cb7b5b82",
   "metadata": {},
   "source": [
    "**Επεξήγηση Κελιού:**\n",
    "Εισαγωγή στο κελί εκτέλεσης του πειράματος."
   ]
  },
  {
   "cell_type": "code",
   "execution_count": 4,
   "id": "c5b36cc7",
   "metadata": {},
   "outputs": [
    {
     "name": "stdout",
     "output_type": "stream",
     "text": [
      "\n",
      "--- Script 'run_logregr_w2v_experiment' started at: 2025-05-24 20:35:25 ---\n",
      "Starting LogRegr with Word2Vec for 'volume' config...\n",
      "INFO: Experiment outputs will be saved in 'c:\\Users\\USER\\Desktop\\PROJECTS\\ML_GreekLegalDocs\\merosB1\\outputs\\LogRegr_Word2Vec_volume'\n",
      "INFO: Using a 30% subset of the data.\n",
      "INFO: Performing a single train/test split (test_size=0.1).\n",
      "INFO: Saving of trained Word2Vec models is ENABLED.\n",
      "INFO: Loading of existing Word2Vec models is ENABLED.\n",
      "Loading dataset 'AI-team-UoA/greek_legal_code' with 'volume' configuration...\n",
      "Dataset loaded in 36.76 seconds.\n",
      "Extracting text and labels...\n",
      "Full dataset extracted in 0.48s. Samples: 28536\n",
      "Original unique labels in full dataset (volume config): 47\n",
      "Filtering out classes with fewer than 2 samples...\n",
      "No classes needed filtering based on min_samples_per_class.\n",
      "Dataset size after filtering for min_samples_per_class: 28536 samples.\n",
      "Unique labels after initial filtering: 47\n",
      "\n",
      "Selecting a 30% subset from the filtered data...\n",
      "Subset size: 8560\n",
      "Unique labels in data finally selected for processing: 47\n",
      "\n",
      "--- Performing single train/test split (90%/10%) for LogRegr_Word2Vec_volume ---\n",
      "Data split. Train texts: 7704, Test texts: 856\n",
      "Training Word2Vec model...\n",
      "Saving Word2Vec model to c:\\Users\\USER\\Desktop\\PROJECTS\\ML_GreekLegalDocs\\merosB1\\outputs\\LogRegr_Word2Vec_volume\\feature_models\\word2vec_LogRegr_Word2Vec_volume_single_run.model...\n",
      "Training LogisticRegression classifier...\n",
      "Making predictions on the test set...\n",
      "Accuracy on the test set: 0.3610\n",
      "\n",
      "Classification Report for LogRegr_Word2Vec_volume (Single Run):\n",
      "              precision    recall  f1-score   support\n",
      "\n",
      "     Class 0       0.17      0.06      0.09        17\n",
      "     Class 1       0.29      0.34      0.32        35\n",
      "     Class 2       0.00      0.00      0.00         7\n",
      "     Class 3       0.24      0.18      0.21        22\n",
      "     Class 4       0.21      0.19      0.20        31\n",
      "     Class 5       0.20      0.10      0.13        10\n",
      "     Class 6       0.29      0.20      0.24        20\n",
      "     Class 7       0.00      0.00      0.00        10\n",
      "     Class 8       0.20      0.12      0.15         8\n",
      "     Class 9       0.00      0.00      0.00         6\n",
      "    Class 10       0.25      0.21      0.23        14\n",
      "    Class 11       0.27      0.38      0.32        16\n",
      "    Class 12       0.00      0.00      0.00         7\n",
      "    Class 13       0.17      0.07      0.10        14\n",
      "    Class 14       0.33      0.33      0.33        15\n",
      "    Class 15       0.50      0.50      0.50        14\n",
      "    Class 16       0.00      0.00      0.00         9\n",
      "    Class 17       0.27      0.52      0.35        27\n",
      "    Class 18       0.26      0.35      0.30        31\n",
      "    Class 19       0.45      0.58      0.51        26\n",
      "    Class 20       0.50      0.25      0.33        12\n",
      "    Class 21       0.51      0.67      0.58        52\n",
      "    Class 22       0.29      0.18      0.22        11\n",
      "    Class 23       0.43      0.47      0.45        19\n",
      "    Class 24       0.45      0.74      0.56        42\n",
      "    Class 25       0.29      0.38      0.33        26\n",
      "    Class 26       0.18      0.13      0.15        15\n",
      "    Class 27       0.00      0.00      0.00        10\n",
      "    Class 28       0.56      0.26      0.36        19\n",
      "    Class 29       0.44      0.36      0.40        11\n",
      "    Class 30       0.38      0.25      0.30        12\n",
      "    Class 31       0.30      0.18      0.22        17\n",
      "    Class 32       0.29      0.22      0.25         9\n",
      "    Class 33       0.00      0.00      0.00         4\n",
      "    Class 34       0.36      0.43      0.39        21\n",
      "    Class 35       0.33      0.20      0.25        10\n",
      "    Class 36       0.28      0.50      0.36        20\n",
      "    Class 37       0.25      0.08      0.12        12\n",
      "    Class 38       0.00      0.00      0.00        10\n",
      "    Class 39       0.19      0.18      0.18        17\n",
      "    Class 40       0.50      0.12      0.20         8\n",
      "    Class 41       0.44      0.35      0.39        23\n",
      "    Class 42       0.33      0.27      0.30        11\n",
      "    Class 43       0.20      0.10      0.13        10\n",
      "    Class 44       0.53      0.76      0.62        63\n",
      "    Class 45       0.46      0.55      0.50        33\n",
      "    Class 46       0.21      0.25      0.23        20\n",
      "\n",
      "    accuracy                           0.36       856\n",
      "   macro avg       0.27      0.26      0.25       856\n",
      "weighted avg       0.33      0.36      0.33       856\n",
      "\n",
      "Single run classification report (TXT) saved to c:\\Users\\USER\\Desktop\\PROJECTS\\ML_GreekLegalDocs\\merosB1\\outputs\\LogRegr_Word2Vec_volume\\reports\\classification_report_LogRegr_Word2Vec_volume_single_run.txt\n",
      "Single run classification report (JSON) saved to c:\\Users\\USER\\Desktop\\PROJECTS\\ML_GreekLegalDocs\\merosB1\\outputs\\LogRegr_Word2Vec_volume\\reports\\classification_report_LogRegr_Word2Vec_volume_single_run.json\n",
      "\n",
      "Experiment 'LogRegr_Word2Vec_volume' completed successfully.\n",
      "\n",
      "LogRegr with Word2Vec script finished for volume dataset.\n",
      "--- Script 'run_logregr_w2v_experiment' finished at: 2025-05-24 20:36:35 ---\n",
      "--- Total execution time for 'run_logregr_w2v_experiment': 69.90 seconds ---\n",
      "\n"
     ]
    }
   ],
   "source": [
    "run_logregr_w2v_experiment(\n",
    "    dataset_config=DATASET_CONFIG,\n",
    "    subset_percentage=SUBSET_PERCENTAGE,\n",
    "    n_splits_cv=N_SPLITS_CV,\n",
    "    random_state=RANDOM_STATE,\n",
    "    single_split_test_size=SINGLE_SPLIT_TEST_SIZE,\n",
    "    save_feature_models=SAVE_TRAINED_FEATURE_MODELS,\n",
    "    load_feature_models=LOAD_TRAINED_FEATURE_MODELS_IF_EXIST,\n",
    "    w2v_vector_size=WORD2VEC_VECTOR_SIZE,\n",
    "    w2v_window=WORD2VEC_WINDOW,\n",
    "    w2v_min_count=WORD2VEC_MIN_COUNT,\n",
    "    w2v_workers=WORD2VEC_WORKERS,\n",
    "    w2v_sg=WORD2VEC_SG,\n",
    "    w2v_epochs=WORD2VEC_EPOCHS\n",
    ")"
   ]
  },
  {
   "cell_type": "markdown",
   "id": "9f3e410b",
   "metadata": {},
   "source": [
    "**Επεξήγηση Κελιού:**\n",
    "Εκτέλεση του πειράματος με τις καθορισμένες παραμέτρους."
   ]
  },
  {
   "cell_type": "markdown",
   "id": "a3f4b3cc",
   "metadata": {},
   "source": [
    "## 3. Αποτελέσματα και Σχολιασμός\n",
    "\n",
    "Τα αναλυτικά αποτελέσματα (classification reports) για κάθε εκτέλεση (είτε single run είτε για κάθε fold του CV και το mean report) αποθηκεύονται στον κατάλογο `outputs/[MODEL_FEATURE_CONFIG]/reports/`. \n",
    "\n",
    "Για παράδειγμα, αν εκτελέσατε LogRegr με Word2Vec για το `subject` (single run):\n",
    "`merosB1/ii/outputs/LogRegr_Word2Vec_subject/reports/`\n",
    "\n",
    "Αντίστοιχα για LogRegr με Word2Vec για το `volume` (με 5-fold CV):\n",
    "`merosB1/ii/outputs/LogRegr_Word2Vec_volume/reports/` (θα περιέχει αναφορές για κάθε fold και τη μέση αναφορά).\n",
    "\n",
    "Τα αποτελέσματα που παρουσιάζονται στην επιστημονική αναφορά (`B1.md`) για LogReg+W2V προέρχονται από εκτελέσεις αυτού του κώδικα με τις κατάλληλες ρυθμίσεις (π.χ., `N_SPLITS_CV=5` για την ετικέτα `volume` και `N_SPLITS_CV=1` για `chapter` και `subject`, με `SUBSET_PERCENTAGE=1.0` όπου ήταν υπολογιστικά εφικτό ή όπως αναφέρεται στην αναφορά).\n",
    "\n",
    "Η επιλογή του `SUBSET_PERCENTAGE` και `N_SPLITS_CV` επηρεάζει σημαντικά τον χρόνο εκτέλεσης. Για την πλήρη αναπαραγωγή των αποτελεσμάτων της αναφοράς, ενδέχεται να απαιτηθεί σημαντικός υπολογιστικός χρόνος και πόροι."
   ]
  },
  {
   "cell_type": "markdown",
   "id": "2fea0adc",
   "metadata": {},
   "source": [
    "**Επεξήγηση Κελιού:**\n",
    "Πληροφορίες για την εύρεση των αποτελεσμάτων και σύνδεση με την επιστημονική αναφορά."
   ]
  }
 ],
 "metadata": {
  "kernelspec": {
   "display_name": ".venv",
   "language": "python",
   "name": "python3"
  },
  "language_info": {
   "codemirror_mode": {
    "name": "ipython",
    "version": 3
   },
   "file_extension": ".py",
   "mimetype": "text/x-python",
   "name": "python",
   "nbconvert_exporter": "python",
   "pygments_lexer": "ipython3",
   "version": "3.11.5"
  }
 },
 "nbformat": 4,
 "nbformat_minor": 5
}
